{
 "cells": [
  {
   "cell_type": "markdown",
   "metadata": {},
   "source": [
    "## Lab-2.1: Multi-variable neural-network regression \n",
    "\n",
    "In this lab we perform multi-variable regression with a dense feed forward ANN on the Boston housing data-set using Keras. \n",
    "  \n",
    "**Submission:**\n",
    "\n",
    "* You need to upload ONE document to Canvas when you are done\n",
    "  * (1) A PDF (or HTML) of the completed form of this notebook \n",
    "* The final uploaded version should NOT have any code-errors present \n",
    "* All outputs must be visible in the uploaded version, including code-cell outputs, images, graphs, etc\n",
    "\n",
    "**Instructions** \n",
    "\n",
    "* Code regression using a deep feed forward fully connected Neural network\n",
    "  * Use a dense feed forward ANN model\n",
    "  * **You only need to do this week's example with Keras (i.e. no PyTorch)**\n",
    "  * Normalize the data as needed\n",
    "  * Visualize the results at the end where possible\n",
    "  * Partition data into training, validation, and test\n",
    "  * Monitor training and validation throughout training by plotting\n",
    "  * Print training, validation, and test errors at the very end\n",
    "  * You `MUST` use early stopping: [click here](https://keras.io/api/callbacks/early_stopping/)\n",
    "  * Do `MANUAL` hyper parameter tuning to try to achieve an optimal fit model\n",
    "    * i.e. best training/validation loss without over-fitting\n",
    "    * Explore L1 and L2 regularization and dropout\n",
    "    * Explore different optimizers \n",
    "    * Use the loss functions specified in the textbook\n",
    "    * Explore different options for activation functions, network size/depth, etc\n",
    "* **Document what is going on in the code, as needed, with narrative markdown text between cells.**\n",
    "* *Submit the version with hyper parameters that provide the optimal fit*\n",
    "  * i.e. you don't need to show the outputs of your hyper-parameter tuning process\n",
    "  \n",
    "**Reference: The Keras portion of this assignment is included as an example in the text book**\n",
    "\n",
    "  * See the textbook (Chollet chapter-3, page 85) for reference \n"
   ]
  }
 ],
 "metadata": {
  "kernelspec": {
   "display_name": "Python 3.10.4 ('ANLY501')",
   "language": "python",
   "name": "python3"
  },
  "language_info": {
   "codemirror_mode": {
    "name": "ipython",
    "version": 3
   },
   "file_extension": ".py",
   "mimetype": "text/x-python",
   "name": "python",
   "nbconvert_exporter": "python",
   "pygments_lexer": "ipython3",
   "version": "3.10.4"
  },
  "orig_nbformat": 4,
  "vscode": {
   "interpreter": {
    "hash": "3bbb781ca6673b7d7a2eaec0820775eebfaab6ec1fac7365fb415515f8c23aa5"
   }
  }
 },
 "nbformat": 4,
 "nbformat_minor": 2
}
