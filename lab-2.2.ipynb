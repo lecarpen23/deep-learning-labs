{
 "cells": [
  {
   "cell_type": "markdown",
   "metadata": {},
   "source": [
    "## Lab-2.2: PyTorch Multi-class classification \n",
    "\n",
    "In this lab we perform multi-class classification with a dense feed forward ANN using the News-wire data-set using `PyTorch` **NOT** `Keras`. \n",
    "\n",
    "* For reference: the included PDF shows you how to do this in Keras, your job is to reproduce this workflow in `PyTorch`\n",
    "  * [click here for reference PDF](news-wire.pdf)\n",
    "  * You can use Keras to get the data, but NOT to train the ANN\n",
    "\n",
    "**Submission:**\n",
    "\n",
    "* You need to upload ONE document to Canvas when you are done\n",
    "  * (1) A PDF (or HTML) of the completed form of this notebook \n",
    "* The final uploaded version should NOT have any code-errors present \n",
    "* All outputs must be visible in the uploaded version, including code-cell outputs, images, graphs, etc\n",
    "\n",
    "**Instructions** \n",
    "\n",
    "* Code Multi-class classification using a deep feed forward fully connected Neural network\n",
    "  * Use a dense feed forward ANN model\n",
    "  * **You only need to do this week's example with PyTorch (i.e. no Keras)**\n",
    "  * Normalize the data if needed\n",
    "  * Visualize the results at the end where possible\n",
    "  * Partition data into training, validation, and test\n",
    "  * Monitor training and validation throughout training by plotting\n",
    "  * Print training, validation, and test errors at the very end\n",
    "  * You `MUST` use early stopping: (if you use code from the internet, make sure you understand it and provide a URL)\n",
    "  * Do basic `MANUAL` hyper-parameter tuning to try to achieve an optimal fit model\n",
    "    * i.e. best training/validation loss without over-fitting\n",
    "    * Explore L1 and L2 regularization and dropout\n",
    "    * Explore different optimizers \n",
    "    * Use the loss functions specified in the textbook\n",
    "    * Explore different options for activation functions, network size/depth, etc\n",
    "* **Document what is going on in the code, as needed, with narrative markdown text between cells.**\n",
    "* *Submit the version with hyper parameters that provide the optimal fit*\n",
    "  * i.e. you don't need to show the outputs of your hyper-parameter tuning process\n"
   ]
  },
  {
   "cell_type": "code",
   "execution_count": 1,
   "metadata": {},
   "outputs": [
    {
     "name": "stdout",
     "output_type": "stream",
     "text": [
      "WARNING:tensorflow:From C:\\Users\\lando\\AppData\\Local\\Packages\\PythonSoftwareFoundation.Python.3.10_qbz5n2kfra8p0\\LocalCache\\local-packages\\Python310\\site-packages\\keras\\src\\losses.py:2976: The name tf.losses.sparse_softmax_cross_entropy is deprecated. Please use tf.compat.v1.losses.sparse_softmax_cross_entropy instead.\n",
      "\n"
     ]
    }
   ],
   "source": [
    "from  keras.datasets import reuters"
   ]
  },
  {
   "cell_type": "code",
   "execution_count": 2,
   "metadata": {},
   "outputs": [],
   "source": [
    "import torch\n",
    "from torch.utils.data import DataLoader, TensorDataset\n",
    "from sklearn.model_selection import train_test_split\n",
    "from sklearn.preprocessing import StandardScaler\n",
    "import numpy as np"
   ]
  },
  {
   "cell_type": "code",
   "execution_count": 3,
   "metadata": {},
   "outputs": [],
   "source": [
    "(x_train, y_train), (x_test, y_test) = reuters.load_data(num_words=10000)"
   ]
  },
  {
   "cell_type": "code",
   "execution_count": 4,
   "metadata": {},
   "outputs": [
    {
     "name": "stdout",
     "output_type": "stream",
     "text": [
      "x train shape: (8982,), y train shape: (8982,)\n",
      "x test shape: (2246,), y test shape: (2246,)\n"
     ]
    }
   ],
   "source": [
    "#print shape of data\n",
    "print(f\"x train shape: {x_train.shape}, y train shape: {y_train.shape}\")\n",
    "print(f\"x test shape: {x_test.shape}, y test shape: {y_test.shape}\")"
   ]
  },
  {
   "cell_type": "code",
   "execution_count": 5,
   "metadata": {},
   "outputs": [
    {
     "name": "stdout",
     "output_type": "stream",
     "text": [
      "x_train head: [list([1, 2, 2, 8, 43, 10, 447, 5, 25, 207, 270, 5, 3095, 111, 16, 369, 186, 90, 67, 7, 89, 5, 19, 102, 6, 19, 124, 15, 90, 67, 84, 22, 482, 26, 7, 48, 4, 49, 8, 864, 39, 209, 154, 6, 151, 6, 83, 11, 15, 22, 155, 11, 15, 7, 48, 9, 4579, 1005, 504, 6, 258, 6, 272, 11, 15, 22, 134, 44, 11, 15, 16, 8, 197, 1245, 90, 67, 52, 29, 209, 30, 32, 132, 6, 109, 15, 17, 12])\n",
      " list([1, 3267, 699, 3434, 2295, 56, 2, 7511, 9, 56, 3906, 1073, 81, 5, 1198, 57, 366, 737, 132, 20, 4093, 7, 2, 49, 2295, 2, 1037, 3267, 699, 3434, 8, 7, 10, 241, 16, 855, 129, 231, 783, 5, 4, 587, 2295, 2, 2, 775, 7, 48, 34, 191, 44, 35, 1795, 505, 17, 12])\n",
      " list([1, 53, 12, 284, 15, 14, 272, 26, 53, 959, 32, 818, 15, 14, 272, 26, 39, 684, 70, 11, 14, 12, 3886, 18, 180, 183, 187, 70, 11, 14, 102, 32, 11, 29, 53, 44, 704, 15, 14, 19, 758, 15, 53, 959, 47, 1013, 15, 14, 19, 132, 15, 39, 965, 32, 11, 14, 147, 72, 11, 180, 183, 187, 44, 11, 14, 102, 19, 11, 123, 186, 90, 67, 960, 4, 78, 13, 68, 467, 511, 110, 59, 89, 90, 67, 1390, 55, 2678, 92, 617, 80, 1274, 46, 905, 220, 13, 4, 346, 48, 235, 629, 5, 211, 5, 1118, 7, 2, 81, 5, 187, 11, 15, 9, 1709, 201, 5, 47, 3615, 18, 478, 4514, 5, 1118, 7, 232, 2, 71, 5, 160, 63, 11, 9, 2, 81, 5, 102, 59, 11, 17, 12])]\n",
      "y_train head: [3 4 3]\n"
     ]
    }
   ],
   "source": [
    "#print the head of x_train  and y_train\n",
    "print(f\"x_train head: {x_train[:3]}\")\n",
    "print(f\"y_train head: {y_train[:3]}\")"
   ]
  },
  {
   "cell_type": "code",
   "execution_count": 6,
   "metadata": {},
   "outputs": [
    {
     "name": "stdout",
     "output_type": "stream",
     "text": [
      "x train shape: (8982, 10000), x test shape: (2246, 10000)\n",
      "x_train head: [[0. 1. 1. ... 0. 0. 0.]\n",
      " [0. 1. 1. ... 0. 0. 0.]\n",
      " [0. 1. 1. ... 0. 0. 0.]]\n"
     ]
    }
   ],
   "source": [
    "#vectorize the data\n",
    "def vectorize_sequences(sequences, dimension=10000):\n",
    "    results = np.zeros((len(sequences), dimension))\n",
    "    for i, sequence in enumerate(sequences):\n",
    "        results[i, sequence] = 1\n",
    "    return results\n",
    "\n",
    "x_train = vectorize_sequences(x_train)\n",
    "x_test = vectorize_sequences(x_test)\n",
    "\n",
    "#print shapes\n",
    "print(f\"x train shape: {x_train.shape}, x test shape: {x_test.shape}\")\n",
    "#print head of x_train\n",
    "print(f\"x_train head: {x_train[:3]}\")"
   ]
  },
  {
   "cell_type": "code",
   "execution_count": 7,
   "metadata": {},
   "outputs": [
    {
     "name": "stdout",
     "output_type": "stream",
     "text": [
      "y train shape: (8982, 46), y test shape: (2246, 46)\n",
      "y_train head: [[0. 0. 0. 1. 0. 0. 0. 0. 0. 0. 0. 0. 0. 0. 0. 0. 0. 0. 0. 0. 0. 0. 0. 0.\n",
      "  0. 0. 0. 0. 0. 0. 0. 0. 0. 0. 0. 0. 0. 0. 0. 0. 0. 0. 0. 0. 0. 0.]\n",
      " [0. 0. 0. 0. 1. 0. 0. 0. 0. 0. 0. 0. 0. 0. 0. 0. 0. 0. 0. 0. 0. 0. 0. 0.\n",
      "  0. 0. 0. 0. 0. 0. 0. 0. 0. 0. 0. 0. 0. 0. 0. 0. 0. 0. 0. 0. 0. 0.]\n",
      " [0. 0. 0. 1. 0. 0. 0. 0. 0. 0. 0. 0. 0. 0. 0. 0. 0. 0. 0. 0. 0. 0. 0. 0.\n",
      "  0. 0. 0. 0. 0. 0. 0. 0. 0. 0. 0. 0. 0. 0. 0. 0. 0. 0. 0. 0. 0. 0.]]\n"
     ]
    }
   ],
   "source": [
    "def to_one_hot(labels, dimension=46):\n",
    "    results = np.zeros((len(labels), dimension))\n",
    "    for i, label in enumerate(labels):\n",
    "        results[i, label] = 1\n",
    "    return results\n",
    "\n",
    "y_train = to_one_hot(y_train)\n",
    "y_test = to_one_hot(y_test)\n",
    "\n",
    "#print shapes\n",
    "print(f\"y train shape: {y_train.shape}, y test shape: {y_test.shape}\")\n",
    "#print head of y_train\n",
    "print(f\"y_train head: {y_train[:3]}\")"
   ]
  },
  {
   "cell_type": "code",
   "execution_count": 8,
   "metadata": {},
   "outputs": [],
   "source": [
    "import torch.nn as nn\n",
    "import torch.nn.functional as F\n",
    "\n",
    "input_size = 10000\n",
    "hidden_sizes = 64\n",
    "output_size = 46\n",
    "lr = 0.0001\n",
    "dropout = 0.3\n",
    "l2 = 0.001\n",
    "\n",
    "class NewsClassifier(nn.Module):\n",
    "    def __init__(self, input_size, hidden_sizes, output_size):\n",
    "        super(NewsClassifier, self).__init__()\n",
    "        #add in dropout layer\n",
    "        self.dropout = nn.Dropout(dropout)\n",
    "        #first hidden layer, reduce to 64\n",
    "        self.fc1 = nn.Linear(input_size, hidden_sizes)\n",
    "        #second hidden layer\n",
    "        self.fc2 = nn.Linear(hidden_sizes, hidden_sizes)\n",
    "        #output layer, reduce 64 to 46 label classes\n",
    "        self.fc3 = nn.Linear(hidden_sizes, output_size)\n",
    "\n",
    "    def forward(self, x):\n",
    "        #forward pass\n",
    "        x = F.relu(self.fc1(x))\n",
    "        x = F.relu(self.fc2(x))\n",
    "        x = self.fc3(x)\n",
    "        return F.log_softmax(x, dim=1)"
   ]
  },
  {
   "cell_type": "code",
   "execution_count": 9,
   "metadata": {},
   "outputs": [],
   "source": [
    "from torch.utils.data import DataLoader, TensorDataset, random_split\n",
    "\n",
    "#convert to tensors\n",
    "x_train_tensor = torch.FloatTensor(x_train)\n",
    "y_train_tensor = torch.LongTensor(np.argmax(y_train, axis=1))  #one hot to index\n",
    "x_test_tensor = torch.FloatTensor(x_test)\n",
    "y_test_tensor = torch.LongTensor(np.argmax(y_test, axis=1))\n",
    "\n",
    "#create dataset\n",
    "dataset = TensorDataset(x_train_tensor, y_train_tensor)\n",
    "\n",
    "#split dataset randomly with random_split from torch\n",
    "train_size = int(len(dataset) * 0.8)\n",
    "val_size = len(dataset) - train_size\n",
    "train_dataset, val_dataset = random_split(dataset, [train_size, val_size])\n",
    "\n",
    "#create dataloaders\n",
    "train_loader = DataLoader(train_dataset, batch_size=1000, shuffle=True)\n",
    "val_loader = DataLoader(val_dataset, batch_size=512, shuffle=True)\n"
   ]
  },
  {
   "cell_type": "code",
   "execution_count": 10,
   "metadata": {},
   "outputs": [
    {
     "name": "stdout",
     "output_type": "stream",
     "text": [
      "Epoch 0, Training Loss: 3.7924938201904297\n",
      "Epoch 0, Validation Loss: 3.7750680446624756\n",
      "Epoch 10, Training Loss: 3.296995520591736\n",
      "Epoch 10, Validation Loss: 3.272668957710266\n",
      "Epoch 20, Training Loss: 2.414753258228302\n",
      "Epoch 20, Validation Loss: 2.4614938497543335\n",
      "Epoch 30, Training Loss: 1.8124258369207382\n",
      "Epoch 30, Validation Loss: 1.893106073141098\n",
      "Epoch 40, Training Loss: 1.5027935355901718\n",
      "Epoch 40, Validation Loss: 1.6311804056167603\n",
      "Epoch 50, Training Loss: 1.2735811173915863\n",
      "Epoch 50, Validation Loss: 1.4818366467952728\n",
      "Epoch 60, Training Loss: 1.1498590558767319\n",
      "Epoch 60, Validation Loss: 1.360413908958435\n",
      "Epoch 70, Training Loss: 1.0223060846328735\n",
      "Epoch 70, Validation Loss: 1.2996622323989868\n",
      "Epoch 80, Training Loss: 0.952247753739357\n",
      "Epoch 80, Validation Loss: 1.216727763414383\n",
      "Epoch 90, Training Loss: 0.8513280749320984\n",
      "Epoch 90, Validation Loss: 1.181718647480011\n",
      "Epoch 100, Training Loss: 0.784607820212841\n",
      "Epoch 100, Validation Loss: 1.1596477925777435\n",
      "Epoch 110, Training Loss: 0.716834232211113\n",
      "Epoch 110, Validation Loss: 1.1153675615787506\n",
      "Early stopping triggered\n"
     ]
    }
   ],
   "source": [
    "from torch.optim import Adam\n",
    "\n",
    "model = NewsClassifier(input_size, hidden_sizes, output_size)\n",
    "optimizer = Adam(model.parameters(), lr=lr, weight_decay=l2)\n",
    "criterion = nn.NLLLoss()\n",
    "\n",
    "#set early stopping parameters\n",
    "no_improve = 0 #number of epochs with no improvement\n",
    "min_val_loss = np.inf #initialize minimum validation loss\n",
    "early_stop_limit = 5 #stop after 3 epochs with no improvement\n",
    "\n",
    "#holder for validation and training loss visualization\n",
    "train_losses = []\n",
    "val_losses = []\n",
    "\n",
    "for epoch in range(250): #shouldnt actually go for this many epochs due to early stopping\n",
    "    train_loss = 0\n",
    "    #training phase\n",
    "    model.train()\n",
    "    for data, target in train_loader:\n",
    "        #zero the gradients\n",
    "        optimizer.zero_grad()\n",
    "        #forward pass\n",
    "        output = model(data)\n",
    "        #calculate loss\n",
    "        loss = criterion(output, target)\n",
    "        #backward pass\n",
    "        loss.backward()\n",
    "        #update weights\n",
    "        optimizer.step()\n",
    "        #accumulate loss\n",
    "        train_loss += loss.item()\n",
    "\n",
    "    train_loss /= len(train_loader)\n",
    "    train_losses.append(train_loss)\n",
    "    #print(f'Epoch {epoch}, Training Loss: {train_loss}')\n",
    "    if epoch % 10 == 0:\n",
    "        print(f'Epoch {epoch}, Training Loss: {train_loss}')\n",
    "\n",
    "    #validation phase\n",
    "    val_loss = 0\n",
    "    total = 0\n",
    "    model.eval()\n",
    "    with torch.no_grad():\n",
    "        for data, target in val_loader:\n",
    "            output = model(data)\n",
    "            val_loss += criterion(output, target).item()\n",
    "            total += data.size(0)\n",
    "\n",
    "    val_loss /= len(val_loader)\n",
    "    #print(f'Epoch {epoch}, Validation Loss: {val_loss}')\n",
    "    val_losses.append(val_loss)\n",
    "\n",
    "    if epoch % 10 == 0:\n",
    "        print(f'Epoch {epoch}, Validation Loss: {val_loss}')\n",
    "\n",
    "    #early stopping check\n",
    "    if val_loss < min_val_loss:\n",
    "        min_val_loss = val_loss\n",
    "        no_improve = 0\n",
    "    else:\n",
    "        no_improve += 1\n",
    "        if no_improve == early_stop_limit:\n",
    "            print(\"Early stopping triggered\")\n",
    "            break\n"
   ]
  },
  {
   "cell_type": "code",
   "execution_count": 13,
   "metadata": {},
   "outputs": [
    {
     "name": "stdout",
     "output_type": "stream",
     "text": [
      "Training Loss:  [3.7924938201904297, 3.7646393179893494, 3.7352133989334106, 3.7029181718826294, 3.666347026824951, 3.62566801905632, 3.5729703307151794, 3.521486610174179, 3.4531487226486206, 3.3763405680656433, 3.296995520591736, 3.209697335958481, 3.116269052028656, 3.0208460092544556, 2.919541120529175, 2.829441636800766, 2.7612050473690033, 2.655406415462494, 2.5766036808490753, 2.5090268552303314, 2.414753258228302, 2.3385987877845764, 2.2630138099193573, 2.200671464204788, 2.1394765973091125, 2.0461460053920746, 1.9956768304109573, 1.9633653312921524, 1.9038231819868088, 1.8598863929510117, 1.8124258369207382, 1.7825247645378113, 1.7448936998844147, 1.702238291501999, 1.6737589538097382, 1.6289115250110626, 1.609429657459259, 1.5856243073940277, 1.521643951535225, 1.5454477667808533, 1.5027935355901718, 1.467041328549385, 1.4436132162809372, 1.4327699691057205, 1.3987529873847961, 1.380797952413559, 1.3453817516565323, 1.3371248096227646, 1.3285752087831497, 1.3067371398210526, 1.2735811173915863, 1.2768640220165253, 1.2705915421247482, 1.2490888684988022, 1.2298495322465897, 1.2313769906759262, 1.1969220489263535, 1.1771299242973328, 1.1906833350658417, 1.1761992126703262, 1.1498590558767319, 1.1436249166727066, 1.130609929561615, 1.1239499896764755, 1.1063560098409653, 1.108031801879406, 1.0823113471269608, 1.0716196447610855, 1.0697508081793785, 1.0399157330393791, 1.0223060846328735, 1.0206896662712097, 1.0284158140420914, 1.0119568556547165, 1.0045738145709038, 0.985389232635498, 0.9910540878772736, 0.972032256424427, 0.9368622750043869, 0.9714956358075142, 0.952247753739357, 0.9210610315203667, 0.9301302805542946, 0.9092846438288689, 0.9086112752556801, 0.8865156918764114, 0.899625226855278, 0.8850429952144623, 0.8761959746479988, 0.8567541018128395, 0.8513280749320984, 0.8366148546338081, 0.8418534621596336, 0.8516426235437393, 0.8194930553436279, 0.8286401554942131, 0.8225171938538551, 0.8027748540043831, 0.790836900472641, 0.7981153577566147, 0.784607820212841, 0.7764953225851059, 0.7645213603973389, 0.7681300044059753, 0.7606944441795349, 0.7511111721396446, 0.7479128614068031, 0.7312704250216484, 0.730149433016777, 0.7196110412478447, 0.716834232211113, 0.7140408977866173, 0.7205362170934677, 0.6851144284009933]\n",
      "Validation Loss:  [3.7750680446624756, 3.749053418636322, 3.7195613980293274, 3.687334895133972, 3.65034019947052, 3.606758773326874, 3.553964853286743, 3.4951000809669495, 3.427721858024597, 3.35422420501709, 3.272668957710266, 3.1981722116470337, 3.1009474396705627, 3.008674442768097, 2.932558059692383, 2.857152283191681, 2.7630597352981567, 2.6917242407798767, 2.577162265777588, 2.5184282660484314, 2.4614938497543335, 2.3712618350982666, 2.303384244441986, 2.241578459739685, 2.172050356864929, 2.1296392679214478, 2.067137509584427, 2.0311022102832794, 1.9929973185062408, 1.9414613544940948, 1.893106073141098, 1.861730933189392, 1.8313031494617462, 1.8016709685325623, 1.7906337082386017, 1.7551259696483612, 1.7280742228031158, 1.696051299571991, 1.6790953576564789, 1.670809954404831, 1.6311804056167603, 1.6478147506713867, 1.6117002367973328, 1.596439242362976, 1.5833996534347534, 1.5515563786029816, 1.5176150798797607, 1.5152850449085236, 1.500834345817566, 1.4755159318447113, 1.4818366467952728, 1.4640961587429047, 1.4753118753433228, 1.447939783334732, 1.4343537390232086, 1.4246360957622528, 1.4082233011722565, 1.4111526906490326, 1.381911814212799, 1.3907241821289062, 1.360413908958435, 1.3600467145442963, 1.353482723236084, 1.3363776504993439, 1.3202487230300903, 1.3411812484264374, 1.321265071630478, 1.31915083527565, 1.308847039937973, 1.2875215113162994, 1.2996622323989868, 1.2870656251907349, 1.277455747127533, 1.2712388634681702, 1.2619108259677887, 1.268759399652481, 1.2474788129329681, 1.251295804977417, 1.2337612509727478, 1.225905567407608, 1.216727763414383, 1.2428261041641235, 1.2095266580581665, 1.1985717415809631, 1.21093088388443, 1.2029558420181274, 1.1839456856250763, 1.1915071606636047, 1.1935434639453888, 1.177150845527649, 1.181718647480011, 1.169451266527176, 1.1716457605361938, 1.1736170053482056, 1.1915156841278076, 1.151663988828659, 1.1538170278072357, 1.158454418182373, 1.1690207719802856, 1.1494629681110382, 1.1596477925777435, 1.1433153450489044, 1.1423144936561584, 1.1197271347045898, 1.1201278269290924, 1.118910312652588, 1.1171531677246094, 1.1253776550292969, 1.1037033200263977, 1.1270660907030106, 1.1153675615787506, 1.130175068974495, 1.1046295166015625, 1.1045178174972534]\n"
     ]
    }
   ],
   "source": [
    "print(\"Training Loss: \", train_losses)\n",
    "print(\"Validation Loss: \", val_losses)"
   ]
  },
  {
   "cell_type": "code",
   "execution_count": 14,
   "metadata": {},
   "outputs": [
    {
     "data": {
      "image/png": "[encoded data removed]",
      "text/plain": [
       "<Figure size 720x432 with 1 Axes>"
      ]
     },
     "metadata": {
      "needs_background": "light"
     },
     "output_type": "display_data"
    }
   ],
   "source": [
    "import matplotlib.pyplot as plt\n",
    "\n",
    "plt.figure(figsize=(10, 6))\n",
    "plt.plot([loss for loss in train_losses], label='Training Loss')  #convert tensor to Python number\n",
    "plt.plot(val_losses, label='Validation Loss')  #val_losses is already a Python list\n",
    "plt.title('Training and Validation Losses') \n",
    "plt.xlabel('Epochs')\n",
    "plt.ylabel('Loss')\n",
    "plt.legend()\n",
    "plt.show()"
   ]
  },
  {
   "cell_type": "code",
   "execution_count": null,
   "metadata": {},
   "outputs": [],
   "source": []
  }
 ],
 "metadata": {
  "kernelspec": {
   "display_name": "Python 3.10.4 ('ANLY501')",
   "language": "python",
   "name": "python3"
  },
  "language_info": {
   "codemirror_mode": {
    "name": "ipython",
    "version": 3
   },
   "file_extension": ".py",
   "mimetype": "text/x-python",
   "name": "python",
   "nbconvert_exporter": "python",
   "pygments_lexer": "ipython3",
   "version": "3.10.11"
  },
  "orig_nbformat": 4,
  "vscode": {
   "interpreter": {
    "hash": "3bbb781ca6673b7d7a2eaec0820775eebfaab6ec1fac7365fb415515f8c23aa5"
   }
  }
 },
 "nbformat": 4,
 "nbformat_minor": 2
}
