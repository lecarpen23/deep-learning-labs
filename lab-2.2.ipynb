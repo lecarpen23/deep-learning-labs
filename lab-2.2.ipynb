{
 "cells": [
  {
   "cell_type": "markdown",
   "metadata": {},
   "source": [
    "## Lab-2.2: PyTorch Multi-class classification \n",
    "\n",
    "In this lab we perform multi-class classification with a dense feed forward ANN using the News-wire data-set using `PyTorch` **NOT** `Keras`. \n",
    "\n",
    "* For reference: the included PDF shows you how to do this in Keras, your job is to reproduce this workflow in `PyTorch`\n",
    "  * [click here for reference PDF](news-wire.pdf)\n",
    "  * You can use Keras to get the data, but NOT to train the ANN\n",
    "\n",
    "**Submission:**\n",
    "\n",
    "* You need to upload ONE document to Canvas when you are done\n",
    "  * (1) A PDF (or HTML) of the completed form of this notebook \n",
    "* The final uploaded version should NOT have any code-errors present \n",
    "* All outputs must be visible in the uploaded version, including code-cell outputs, images, graphs, etc\n",
    "\n",
    "**Instructions** \n",
    "\n",
    "* Code Multi-class classification using a deep feed forward fully connected Neural network\n",
    "  * Use a dense feed forward ANN model\n",
    "  * **You only need to do this week's example with PyTorch (i.e. no Keras)**\n",
    "  * Normalize the data if needed\n",
    "  * Visualize the results at the end where possible\n",
    "  * Partition data into training, validation, and test\n",
    "  * Monitor training and validation throughout training by plotting\n",
    "  * Print training, validation, and test errors at the very end\n",
    "  * You `MUST` use early stopping: (if you use code from the internet, make sure you understand it and provide a URL)\n",
    "  * Do basic `MANUAL` hyper-parameter tuning to try to achieve an optimal fit model\n",
    "    * i.e. best training/validation loss without over-fitting\n",
    "    * Explore L1 and L2 regularization and dropout\n",
    "    * Explore different optimizers \n",
    "    * Use the loss functions specified in the textbook\n",
    "    * Explore different options for activation functions, network size/depth, etc\n",
    "* **Document what is going on in the code, as needed, with narrative markdown text between cells.**\n",
    "* *Submit the version with hyper parameters that provide the optimal fit*\n",
    "  * i.e. you don't need to show the outputs of your hyper-parameter tuning process\n"
   ]
  },
  {
   "cell_type": "code",
   "execution_count": 1,
   "metadata": {},
   "outputs": [
    {
     "name": "stdout",
     "output_type": "stream",
     "text": [
      "WARNING:tensorflow:From C:\\Users\\lando\\AppData\\Local\\Packages\\PythonSoftwareFoundation.Python.3.10_qbz5n2kfra8p0\\LocalCache\\local-packages\\Python310\\site-packages\\keras\\src\\losses.py:2976: The name tf.losses.sparse_softmax_cross_entropy is deprecated. Please use tf.compat.v1.losses.sparse_softmax_cross_entropy instead.\n",
      "\n"
     ]
    }
   ],
   "source": [
    "from  keras.datasets import reuters"
   ]
  },
  {
   "cell_type": "code",
   "execution_count": 2,
   "metadata": {},
   "outputs": [],
   "source": [
    "import torch\n",
    "from torch.utils.data import DataLoader, TensorDataset\n",
    "from sklearn.model_selection import train_test_split\n",
    "from sklearn.preprocessing import StandardScaler\n",
    "import numpy as np"
   ]
  },
  {
   "cell_type": "code",
   "execution_count": 3,
   "metadata": {},
   "outputs": [],
   "source": [
    "(x_train, y_train), (x_test, y_test) = reuters.load_data(num_words=10000)"
   ]
  },
  {
   "cell_type": "code",
   "execution_count": 4,
   "metadata": {},
   "outputs": [
    {
     "name": "stdout",
     "output_type": "stream",
     "text": [
      "x train shape: (8982,), y train shape: (8982,)\n",
      "x test shape: (2246,), y test shape: (2246,)\n"
     ]
    }
   ],
   "source": [
    "#print shape of data\n",
    "print(f\"x train shape: {x_train.shape}, y train shape: {y_train.shape}\")\n",
    "print(f\"x test shape: {x_test.shape}, y test shape: {y_test.shape}\")"
   ]
  },
  {
   "cell_type": "code",
   "execution_count": 5,
   "metadata": {},
   "outputs": [
    {
     "name": "stdout",
     "output_type": "stream",
     "text": [
      "x_train head: [list([1, 2, 2, 8, 43, 10, 447, 5, 25, 207, 270, 5, 3095, 111, 16, 369, 186, 90, 67, 7, 89, 5, 19, 102, 6, 19, 124, 15, 90, 67, 84, 22, 482, 26, 7, 48, 4, 49, 8, 864, 39, 209, 154, 6, 151, 6, 83, 11, 15, 22, 155, 11, 15, 7, 48, 9, 4579, 1005, 504, 6, 258, 6, 272, 11, 15, 22, 134, 44, 11, 15, 16, 8, 197, 1245, 90, 67, 52, 29, 209, 30, 32, 132, 6, 109, 15, 17, 12])\n",
      " list([1, 3267, 699, 3434, 2295, 56, 2, 7511, 9, 56, 3906, 1073, 81, 5, 1198, 57, 366, 737, 132, 20, 4093, 7, 2, 49, 2295, 2, 1037, 3267, 699, 3434, 8, 7, 10, 241, 16, 855, 129, 231, 783, 5, 4, 587, 2295, 2, 2, 775, 7, 48, 34, 191, 44, 35, 1795, 505, 17, 12])\n",
      " list([1, 53, 12, 284, 15, 14, 272, 26, 53, 959, 32, 818, 15, 14, 272, 26, 39, 684, 70, 11, 14, 12, 3886, 18, 180, 183, 187, 70, 11, 14, 102, 32, 11, 29, 53, 44, 704, 15, 14, 19, 758, 15, 53, 959, 47, 1013, 15, 14, 19, 132, 15, 39, 965, 32, 11, 14, 147, 72, 11, 180, 183, 187, 44, 11, 14, 102, 19, 11, 123, 186, 90, 67, 960, 4, 78, 13, 68, 467, 511, 110, 59, 89, 90, 67, 1390, 55, 2678, 92, 617, 80, 1274, 46, 905, 220, 13, 4, 346, 48, 235, 629, 5, 211, 5, 1118, 7, 2, 81, 5, 187, 11, 15, 9, 1709, 201, 5, 47, 3615, 18, 478, 4514, 5, 1118, 7, 232, 2, 71, 5, 160, 63, 11, 9, 2, 81, 5, 102, 59, 11, 17, 12])]\n",
      "y_train head: [3 4 3]\n"
     ]
    }
   ],
   "source": [
    "#print the head of x_train  and y_train\n",
    "print(f\"x_train head: {x_train[:3]}\")\n",
    "print(f\"y_train head: {y_train[:3]}\")"
   ]
  },
  {
   "cell_type": "code",
   "execution_count": 6,
   "metadata": {},
   "outputs": [
    {
     "name": "stdout",
     "output_type": "stream",
     "text": [
      "x train shape: (8982, 10000), x test shape: (2246, 10000)\n",
      "x_train head: [[0. 1. 1. ... 0. 0. 0.]\n",
      " [0. 1. 1. ... 0. 0. 0.]\n",
      " [0. 1. 1. ... 0. 0. 0.]]\n"
     ]
    }
   ],
   "source": [
    "#vectorize the data\n",
    "def vectorize_sequences(sequences, dimension=10000):\n",
    "    results = np.zeros((len(sequences), dimension))\n",
    "    for i, sequence in enumerate(sequences):\n",
    "        results[i, sequence] = 1\n",
    "    return results\n",
    "\n",
    "x_train = vectorize_sequences(x_train)\n",
    "x_test = vectorize_sequences(x_test)\n",
    "\n",
    "#print shapes\n",
    "print(f\"x train shape: {x_train.shape}, x test shape: {x_test.shape}\")\n",
    "#print head of x_train\n",
    "print(f\"x_train head: {x_train[:3]}\")"
   ]
  },
  {
   "cell_type": "code",
   "execution_count": 7,
   "metadata": {},
   "outputs": [
    {
     "name": "stdout",
     "output_type": "stream",
     "text": [
      "y train shape: (8982, 46), y test shape: (2246, 46)\n",
      "y_train head: [[0. 0. 0. 1. 0. 0. 0. 0. 0. 0. 0. 0. 0. 0. 0. 0. 0. 0. 0. 0. 0. 0. 0. 0.\n",
      "  0. 0. 0. 0. 0. 0. 0. 0. 0. 0. 0. 0. 0. 0. 0. 0. 0. 0. 0. 0. 0. 0.]\n",
      " [0. 0. 0. 0. 1. 0. 0. 0. 0. 0. 0. 0. 0. 0. 0. 0. 0. 0. 0. 0. 0. 0. 0. 0.\n",
      "  0. 0. 0. 0. 0. 0. 0. 0. 0. 0. 0. 0. 0. 0. 0. 0. 0. 0. 0. 0. 0. 0.]\n",
      " [0. 0. 0. 1. 0. 0. 0. 0. 0. 0. 0. 0. 0. 0. 0. 0. 0. 0. 0. 0. 0. 0. 0. 0.\n",
      "  0. 0. 0. 0. 0. 0. 0. 0. 0. 0. 0. 0. 0. 0. 0. 0. 0. 0. 0. 0. 0. 0.]]\n"
     ]
    }
   ],
   "source": [
    "def to_one_hot(labels, dimension=46):\n",
    "    results = np.zeros((len(labels), dimension))\n",
    "    for i, label in enumerate(labels):\n",
    "        results[i, label] = 1\n",
    "    return results\n",
    "\n",
    "y_train = to_one_hot(y_train)\n",
    "y_test = to_one_hot(y_test)\n",
    "\n",
    "#print shapes\n",
    "print(f\"y train shape: {y_train.shape}, y test shape: {y_test.shape}\")\n",
    "#print head of y_train\n",
    "print(f\"y_train head: {y_train[:3]}\")"
   ]
  },
  {
   "cell_type": "code",
   "execution_count": 8,
   "metadata": {},
   "outputs": [],
   "source": [
    "import torch.nn as nn\n",
    "import torch.nn.functional as F\n",
    "\n",
    "input_size = 10000\n",
    "hidden_sizes = 64\n",
    "output_size = 46\n",
    "\n",
    "class NewsClassifier(nn.Module):\n",
    "    def __init__(self, input_size, hidden_sizes, output_size):\n",
    "        super(NewsClassifier, self).__init__()\n",
    "        #first hidden layer, reduce to 64\n",
    "        self.fc1 = nn.Linear(input_size, hidden_sizes)\n",
    "        #second hidden layer\n",
    "        self.fc2 = nn.Linear(hidden_sizes, hidden_sizes)\n",
    "        #output layer, reduce 64 to 46 label classes\n",
    "        self.fc3 = nn.Linear(hidden_sizes, output_size)\n",
    "\n",
    "    def forward(self, x):\n",
    "        #forward pass\n",
    "        x = F.relu(self.fc1(x))\n",
    "        x = F.relu(self.fc2(x))\n",
    "        x = self.fc3(x)\n",
    "        return F.log_softmax(x, dim=1)\n",
    "\n",
    "lr = 0.001"
   ]
  },
  {
   "cell_type": "code",
   "execution_count": 9,
   "metadata": {},
   "outputs": [],
   "source": [
    "from torch.utils.data import DataLoader, TensorDataset, random_split\n",
    "\n",
    "#convert to tensors\n",
    "x_train_tensor = torch.FloatTensor(x_train)\n",
    "y_train_tensor = torch.LongTensor(np.argmax(y_train, axis=1))  #one hot to index\n",
    "x_test_tensor = torch.FloatTensor(x_test)\n",
    "y_test_tensor = torch.LongTensor(np.argmax(y_test, axis=1))\n",
    "\n",
    "#create dataset\n",
    "dataset = TensorDataset(x_train_tensor, y_train_tensor)\n",
    "\n",
    "#split dataset randomly with random_split from torch\n",
    "train_size = int(len(dataset) * 0.8)\n",
    "val_size = len(dataset) - train_size\n",
    "train_dataset, val_dataset = random_split(dataset, [train_size, val_size])\n",
    "\n",
    "#create dataloaders\n",
    "train_loader = DataLoader(train_dataset, batch_size=512, shuffle=True)\n",
    "val_loader = DataLoader(val_dataset, batch_size=512, shuffle=True)\n"
   ]
  },
  {
   "cell_type": "code",
   "execution_count": 10,
   "metadata": {},
   "outputs": [
    {
     "name": "stdout",
     "output_type": "stream",
     "text": [
      "Epoch 0, Training Loss: 3.557663424809774\n",
      "Epoch 0, Validation Loss: 3.096015691757202\n",
      "Epoch 1, Training Loss: 2.6156327088673907\n",
      "Epoch 1, Validation Loss: 2.177426040172577\n",
      "Epoch 2, Training Loss: 1.822029169400533\n",
      "Epoch 2, Validation Loss: 1.626442313194275\n",
      "Epoch 3, Training Loss: 1.4741379181543985\n",
      "Epoch 3, Validation Loss: 1.4316401779651642\n",
      "Epoch 4, Training Loss: 1.2214220841725667\n",
      "Epoch 4, Validation Loss: 1.3068718314170837\n",
      "Epoch 5, Training Loss: 1.078034234046936\n",
      "Epoch 5, Validation Loss: 1.219752311706543\n",
      "Epoch 6, Training Loss: 0.9375919858614604\n",
      "Epoch 6, Validation Loss: 1.1396830379962921\n",
      "Epoch 7, Training Loss: 0.8068756461143494\n",
      "Epoch 7, Validation Loss: 1.0853107869625092\n",
      "Epoch 8, Training Loss: 0.7338645855585734\n",
      "Epoch 8, Validation Loss: 1.0531889498233795\n",
      "Epoch 9, Training Loss: 0.5968706548213959\n",
      "Epoch 9, Validation Loss: 1.024242803454399\n",
      "Epoch 10, Training Loss: 0.5294319609800975\n",
      "Epoch 10, Validation Loss: 0.9809318482875824\n",
      "Epoch 11, Training Loss: 0.4755175809065501\n",
      "Epoch 11, Validation Loss: 0.9717695713043213\n",
      "Epoch 12, Training Loss: 0.40839781761169436\n",
      "Epoch 12, Validation Loss: 0.9642740935087204\n",
      "Epoch 13, Training Loss: 0.3380857467651367\n",
      "Epoch 13, Validation Loss: 0.9720765501260757\n",
      "Epoch 14, Training Loss: 0.28964376002550124\n",
      "Epoch 14, Validation Loss: 0.9249802976846695\n",
      "Epoch 15, Training Loss: 0.26152382691701254\n",
      "Epoch 15, Validation Loss: 0.974284827709198\n",
      "Epoch 16, Training Loss: 0.22920801242192587\n",
      "Epoch 16, Validation Loss: 0.9653920233249664\n",
      "Epoch 17, Training Loss: 0.20619093279043835\n",
      "Epoch 17, Validation Loss: 0.9654703736305237\n",
      "Early stopping triggered\n"
     ]
    }
   ],
   "source": [
    "from torch.optim import Adam\n",
    "\n",
    "model = NewsClassifier(input_size, hidden_sizes, output_size)\n",
    "optimizer = Adam(model.parameters(), lr=lr)\n",
    "criterion = nn.NLLLoss()\n",
    "\n",
    "#set early stopping parameters\n",
    "no_improve = 0 #number of epochs with no improvement\n",
    "min_val_loss = np.inf #initialize minimum validation loss\n",
    "early_stop_limit = 3 #stop after 3 epochs with no improvement\n",
    "\n",
    "#holder for validation and training loss visualization\n",
    "train_losses = []\n",
    "val_losses = []\n",
    "\n",
    "for epoch in range(250):\n",
    "    train_loss = 0\n",
    "    #training phase\n",
    "    model.train()\n",
    "    for data, target in train_loader:\n",
    "        #zero the gradients\n",
    "        optimizer.zero_grad()\n",
    "        #forward pass\n",
    "        output = model(data)\n",
    "        #calculate loss\n",
    "        loss = criterion(output, target)\n",
    "        #backward pass\n",
    "        loss.backward()\n",
    "        #update weights\n",
    "        optimizer.step()\n",
    "        #accumulate loss\n",
    "        train_loss += loss.item()\n",
    "\n",
    "    train_loss /= len(train_loader)\n",
    "    train_losses.append(train_loss)\n",
    "    print(f'Epoch {epoch}, Training Loss: {train_loss}')\n",
    "\n",
    "    #validation phase\n",
    "    val_loss = 0\n",
    "    total = 0\n",
    "    model.eval()\n",
    "    with torch.no_grad():\n",
    "        for data, target in val_loader:\n",
    "            output = model(data)\n",
    "            val_loss += criterion(output, target).item()\n",
    "            total += data.size(0)\n",
    "\n",
    "    val_loss /= len(val_loader)\n",
    "    print(f'Epoch {epoch}, Validation Loss: {val_loss}')\n",
    "    val_losses.append(val_loss)\n",
    "\n",
    "    #early stopping check\n",
    "    if val_loss < min_val_loss:\n",
    "        min_val_loss = val_loss\n",
    "        no_improve = 0\n",
    "    else:\n",
    "        no_improve += 1\n",
    "        if no_improve == early_stop_limit:\n",
    "            print(\"Early stopping triggered\")\n",
    "            break\n"
   ]
  },
  {
   "cell_type": "code",
   "execution_count": 11,
   "metadata": {},
   "outputs": [
    {
     "name": "stdout",
     "output_type": "stream",
     "text": [
      "Training Loss:  [3.557663424809774, 2.6156327088673907, 1.822029169400533, 1.4741379181543985, 1.2214220841725667, 1.078034234046936, 0.9375919858614604, 0.8068756461143494, 0.7338645855585734, 0.5968706548213959, 0.5294319609800975, 0.4755175809065501, 0.40839781761169436, 0.3380857467651367, 0.28964376002550124, 0.26152382691701254, 0.22920801242192587, 0.20619093279043835]\n",
      "Validation Loss:  [3.096015691757202, 2.177426040172577, 1.626442313194275, 1.4316401779651642, 1.3068718314170837, 1.219752311706543, 1.1396830379962921, 1.0853107869625092, 1.0531889498233795, 1.024242803454399, 0.9809318482875824, 0.9717695713043213, 0.9642740935087204, 0.9720765501260757, 0.9249802976846695, 0.974284827709198, 0.9653920233249664, 0.9654703736305237]\n"
     ]
    }
   ],
   "source": [
    "print(\"Training Loss: \", train_losses)\n",
    "print(\"Validation Loss: \", val_losses)"
   ]
  },
  {
   "cell_type": "code",
   "execution_count": 12,
   "metadata": {},
   "outputs": [
    {
     "data": {
      "image/png": "[encoded data removed]",
      "text/plain": [
       "<Figure size 720x432 with 1 Axes>"
      ]
     },
     "metadata": {
      "needs_background": "light"
     },
     "output_type": "display_data"
    }
   ],
   "source": [
    "import matplotlib.pyplot as plt\n",
    "\n",
    "plt.figure(figsize=(10, 6))\n",
    "plt.plot([loss for loss in train_losses], label='Training Loss')  #convert tensor to Python number\n",
    "plt.plot(val_losses, label='Validation Loss')  #val_losses is already a Python list\n",
    "plt.title('Training and Validation Losses') \n",
    "plt.xlabel('Epochs')\n",
    "plt.ylabel('Loss')\n",
    "plt.legend()\n",
    "plt.show()"
   ]
  },
  {
   "cell_type": "code",
   "execution_count": null,
   "metadata": {},
   "outputs": [],
   "source": []
  }
 ],
 "metadata": {
  "kernelspec": {
   "display_name": "Python 3.10.4 ('ANLY501')",
   "language": "python",
   "name": "python3"
  },
  "language_info": {
   "codemirror_mode": {
    "name": "ipython",
    "version": 3
   },
   "file_extension": ".py",
   "mimetype": "text/x-python",
   "name": "python",
   "nbconvert_exporter": "python",
   "pygments_lexer": "ipython3",
   "version": "3.10.11"
  },
  "orig_nbformat": 4,
  "vscode": {
   "interpreter": {
    "hash": "3bbb781ca6673b7d7a2eaec0820775eebfaab6ec1fac7365fb415515f8c23aa5"
   }
  }
 },
 "nbformat": 4,
 "nbformat_minor": 2
}
